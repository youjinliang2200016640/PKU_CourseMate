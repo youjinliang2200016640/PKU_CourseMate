{
 "cells": [
  {
   "cell_type": "code",
   "execution_count": 1,
   "id": "1260e481",
   "metadata": {},
   "outputs": [],
   "source": [
    "import matplotlib.pyplot as plt\n",
    "import numpy as np\n",
    "import pandas as pd\n",
    "import random\n",
    "import re\n",
    "from io import BytesIO\n",
    "from PIL import Image\n",
    "import os\n",
    "import csv, json\n",
    "from collections import Counter, defaultdict"
   ]
  },
  {
   "cell_type": "code",
   "execution_count": null,
   "id": "47565792",
   "metadata": {},
   "outputs": [],
   "source": [
    "# 设置全局字体（任选一种方式\n",
    "# 方式1：使用系统字体名称（需确认字体存在）\n",
    "plt.rcParams['font.sans-serif'] = ['KaiTi']  # 适用于Windows\n",
    "# plt.rcParams['font.sans-serif'] = ['Hiragino Sans GB']  # 适用于Mac\n",
    "# plt.rcParams['font.sans-serif'] = ['WenQuanYi Zen Hei']  # 适用于Linux\n",
    "\n",
    "\n",
    "# 解决负号显示问题\n",
    "plt.rcParams['axes.unicode_minus'] = False\n"
   ]
  },
  {
   "cell_type": "code",
   "execution_count": null,
   "id": "d70c6e3a",
   "metadata": {},
   "outputs": [],
   "source": [
    "from utils import readInfo, deepseek_v3, convert, processInfo, insertItem"
   ]
  },
  {
   "cell_type": "markdown",
   "id": "85d9a369",
   "metadata": {},
   "source": [
    "data process"
   ]
  },
  {
   "cell_type": "code",
   "execution_count": null,
   "id": "98797f66",
   "metadata": {},
   "outputs": [],
   "source": [
    "with open(\"dataset/专业课/信息科学技术学院/人工智能前沿/info.csv\", \"r\", encoding=\"utf-8\") as f:\n",
    "    reader = csv.reader(f)\n",
    "    for row in reader:\n",
    "        print(row)"
   ]
  },
  {
   "cell_type": "code",
   "execution_count": null,
   "id": "7bfb0d65",
   "metadata": {},
   "outputs": [],
   "source": [
    "infos = {}\n",
    "for dir, subdir, files in os.walk(\"dataset\"):\n",
    "    if not subdir:\n",
    "        ret = readInfo(os.path.join(dir, \"info.csv\"))\n",
    "        infos[ret[\"课程号\"]] = ret\n",
    "raise StopIteration()\n",
    "for dir, subdir, files in os.walk(\"dataset/英语课/外国语学院\"):\n",
    "    if not subdir:\n",
    "        insertItem(os.path.join(dir, \"info.csv\"))\n",
    "with open(\"dataset/info.json\", \"w\", encoding=\"utf-8\") as f:\n",
    "    json.dump(infos, f, indent=4, ensure_ascii=False)"
   ]
  },
  {
   "cell_type": "code",
   "execution_count": null,
   "id": "695a6330",
   "metadata": {},
   "outputs": [],
   "source": [
    "with open(\"dataset/专业课/信息科学技术学院/计算机系统导论/evaluation_treehole.txt\", \"r\", encoding=\"utf-8\") as f:\n",
    "    txt = f.read()"
   ]
  },
  {
   "cell_type": "markdown",
   "id": "8b5ebfc8",
   "metadata": {},
   "source": [
    "draw wordcloud for each course whose evaluation_treehole.txt is not empty"
   ]
  },
  {
   "cell_type": "code",
   "execution_count": 4,
   "id": "0e4f1348",
   "metadata": {},
   "outputs": [],
   "source": [
    "from utils import wordcloud_draw, WordConstructor"
   ]
  },
  {
   "cell_type": "code",
   "execution_count": null,
   "id": "8ccc4013",
   "metadata": {},
   "outputs": [
    {
     "data": {
      "text/plain": [
       "<Figure size 640x480 with 0 Axes>"
      ]
     },
     "metadata": {},
     "output_type": "display_data"
    }
   ],
   "source": [
    "contexts = []\n",
    "ww = WordConstructor()\n",
    "for dir, subdir, files in os.walk(\"dataset\"):\n",
    "    if not subdir:\n",
    "        file_path = os.path.join(dir, \"evaluation_treehole.txt\")\n",
    "        with open(file_path, \"r\", encoding=\"utf-8\") as f:\n",
    "            txt = f.read()\n",
    "            if txt:\n",
    "                contexts.extend(txt.split(\"\\n\\n\"))\n",
    "                wordcloud_draw(ww.process(txt), \"\", width=800, height=400, savepath=os.path.join(dir, \"wordcloud.png\") )"
   ]
  },
  {
   "cell_type": "markdown",
   "id": "05827d72",
   "metadata": {},
   "source": [
    "add wordcloud image ref into AI_summary.md"
   ]
  },
  {
   "cell_type": "code",
   "execution_count": null,
   "id": "3e31ef7a",
   "metadata": {},
   "outputs": [],
   "source": [
    "for dir, subdir, files in os.walk(\"dataset\"):\n",
    "    if not subdir:\n",
    "        file_path = os.path.join(dir, \"AI_summary.md\")\n",
    "        with open(file_path, \"a\", encoding=\"utf-8\") as f:\n",
    "            if os.path.exists(os.path.join(dir, \"wordcloud.png\")):\n",
    "                f.writelines([\"\\n\", \"![wordcloud](wordcloud.png)\"])"
   ]
  }
 ],
 "metadata": {
  "kernelspec": {
   "display_name": "Python 3",
   "language": "python",
   "name": "python3"
  },
  "language_info": {
   "codemirror_mode": {
    "name": "ipython",
    "version": 3
   },
   "file_extension": ".py",
   "mimetype": "text/x-python",
   "name": "python",
   "nbconvert_exporter": "python",
   "pygments_lexer": "ipython3",
   "version": "3.11.3"
  }
 },
 "nbformat": 4,
 "nbformat_minor": 5
}
